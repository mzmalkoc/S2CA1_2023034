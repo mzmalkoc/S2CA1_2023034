{
 "cells": [
  {
   "cell_type": "markdown",
   "id": "82b7aa9f",
   "metadata": {},
   "source": [
    "### IMPORT LIBRARIES"
   ]
  },
  {
   "cell_type": "code",
   "execution_count": 1,
   "id": "e3cf18cd",
   "metadata": {},
   "outputs": [
    {
     "name": "stderr",
     "output_type": "stream",
     "text": [
      "2023-10-05 01:58:11.102740: I tensorflow/core/platform/cpu_feature_guard.cc:182] This TensorFlow binary is optimized to use available CPU instructions in performance-critical operations.\n",
      "To enable the following instructions: AVX2, in other operations, rebuild TensorFlow with the appropriate compiler flags.\n"
     ]
    }
   ],
   "source": [
    "# 2023034 - MAHMUT ZAHID MALKOC\n",
    "\n",
    "import numpy as np\n",
    "import matplotlib.pyplot as plt\n",
    "import tensorflow as tf\n",
    "\n",
    "from pyspark.sql import SparkSession\n",
    "from pyspark.sql.functions import udf, col\n",
    "from pyspark.sql.types import ArrayType, IntegerType, FloatType\n",
    "from pyspark.ml.linalg import Vectors\n",
    "from pyspark.ml.feature import VectorAssembler\n",
    "from pyspark.sql.functions import when, lit"
   ]
  },
  {
   "cell_type": "markdown",
   "id": "f3f08697",
   "metadata": {},
   "source": [
    "### IMPORT DATASET FROM HDFS"
   ]
  },
  {
   "cell_type": "code",
   "execution_count": 2,
   "id": "7e6b3368",
   "metadata": {},
   "outputs": [
    {
     "name": "stderr",
     "output_type": "stream",
     "text": [
      "                                                                                \r"
     ]
    }
   ],
   "source": [
    "# 2023034 - MAHMUT ZAHID MALKOC\n",
    "\n",
    "from pyspark.sql import SparkSession\n",
    "\n",
    "spark = SparkSession.builder.appName(\"ImageProcessing\").getOrCreate()\n",
    "\n",
    "hdfs_path = \"/S2CA1/fer2013.csv\"\n",
    "\n",
    "df = spark.read.csv(hdfs_path, header=True, inferSchema=True)"
   ]
  },
  {
   "cell_type": "markdown",
   "id": "60b0d980",
   "metadata": {},
   "source": [
    "### EXPLORATORY DATA ANALYSIS USING SPARK"
   ]
  },
  {
   "cell_type": "code",
   "execution_count": 3,
   "id": "b584573c",
   "metadata": {
    "collapsed": true
   },
   "outputs": [
    {
     "name": "stdout",
     "output_type": "stream",
     "text": [
      "+-------+--------------------+--------+\n",
      "|emotion|              pixels|   Usage|\n",
      "+-------+--------------------+--------+\n",
      "|      0|70 80 82 72 58 58...|Training|\n",
      "|      0|151 150 147 155 1...|Training|\n",
      "|      2|231 212 156 164 1...|Training|\n",
      "+-------+--------------------+--------+\n",
      "only showing top 3 rows\n",
      "\n"
     ]
    }
   ],
   "source": [
    "# 2023034 - MAHMUT ZAHID MALKOC\n",
    "\n",
    "# Show the dataframe\n",
    "df.show()"
   ]
  },
  {
   "cell_type": "code",
   "execution_count": 4,
   "id": "d04f17a6",
   "metadata": {
    "collapsed": true
   },
   "outputs": [
    {
     "name": "stderr",
     "output_type": "stream",
     "text": [
      "\r",
      "[Stage 3:>                                                          (0 + 4) / 4]\r"
     ]
    },
    {
     "name": "stdout",
     "output_type": "stream",
     "text": [
      "1\n",
      "6\n",
      "3\n",
      "5\n",
      "4\n",
      "2\n",
      "0\n"
     ]
    },
    {
     "name": "stderr",
     "output_type": "stream",
     "text": [
      "\r",
      "                                                                                \r"
     ]
    }
   ],
   "source": [
    "# 2023034 - MAHMUT ZAHID MALKOC\n",
    "\n",
    "# Select the \"emotion\" column and find the unique values\n",
    "unique_emotions = df.select(\"emotion\").distinct().collect()\n",
    "\n",
    "# Print the unique emotion values to the screen\n",
    "for row in unique_emotions:\n",
    "    print(row[0])"
   ]
  },
  {
   "cell_type": "code",
   "execution_count": 5,
   "id": "9d6d8c3a",
   "metadata": {
    "collapsed": true
   },
   "outputs": [
    {
     "name": "stderr",
     "output_type": "stream",
     "text": [
      "\r",
      "[Stage 6:==============>                                            (1 + 3) / 4]\r",
      "\r",
      "[Stage 6:============================================>              (3 + 1) / 4]\r"
     ]
    },
    {
     "name": "stdout",
     "output_type": "stream",
     "text": [
      "+-----------+-----+\n",
      "|      Usage|count|\n",
      "+-----------+-----+\n",
      "|   Training|28709|\n",
      "| PublicTest| 3589|\n",
      "|PrivateTest| 3589|\n",
      "+-----------+-----+\n",
      "\n"
     ]
    },
    {
     "name": "stderr",
     "output_type": "stream",
     "text": [
      "\r",
      "                                                                                \r"
     ]
    }
   ],
   "source": [
    "# 2023034 - MAHMUT ZAHID MALKOC\n",
    "\n",
    "# Group the \"Usage\" column and count\n",
    "usage_counts = df.groupBy(\"Usage\").count()\n",
    "\n",
    "# Print \"usage_counts\"\n",
    "usage_counts.show()"
   ]
  },
  {
   "cell_type": "code",
   "execution_count": 6,
   "id": "04f719e5",
   "metadata": {
    "collapsed": true
   },
   "outputs": [
    {
     "name": "stdout",
     "output_type": "stream",
     "text": [
      "+-------+-----+\n",
      "|emotion|count|\n",
      "+-------+-----+\n",
      "|      1|  547|\n",
      "|      6| 6198|\n",
      "|      3| 8989|\n",
      "|      5| 4002|\n",
      "|      4| 6077|\n",
      "|      2| 5121|\n",
      "|      0| 4953|\n",
      "+-------+-----+\n",
      "\n"
     ]
    },
    {
     "name": "stderr",
     "output_type": "stream",
     "text": [
      "\r",
      "[Stage 9:============================================>              (3 + 1) / 4]\r",
      "\r",
      "                                                                                \r"
     ]
    }
   ],
   "source": [
    "# 2023034 - MAHMUT ZAHID MALKOC\n",
    "\n",
    "# Describe the emotion map\n",
    "emotion_map = {0: 'Angry', 1: 'Disgust', 2: 'Fear', 3: 'Happy', 4: 'Sad', 5: 'Surprise', 6: 'Neutral'}\n",
    "\n",
    "# Calculate the count of each emotion category\n",
    "emotion_counts = df.groupBy(\"emotion\").count()\n",
    "\n",
    "# Print \"emotion_counts\"\n",
    "emotion_counts.show()"
   ]
  },
  {
   "cell_type": "code",
   "execution_count": 7,
   "id": "8fd42413",
   "metadata": {
    "collapsed": true
   },
   "outputs": [
    {
     "data": {
      "image/png": "[encoded data removed]",
      "text/plain": [
       "<Figure size 720x432 with 1 Axes>"
      ]
     },
     "metadata": {
      "needs_background": "light"
     },
     "output_type": "display_data"
    }
   ],
   "source": [
    "# 2023034 - MAHMUT ZAHID MALKOC\n",
    "\n",
    "# Describe the labels\n",
    "emotion_labels = ['Disgust', 'Neutral', 'Happy', 'Surprise', 'Sad', 'Fear', 'Angry']\n",
    "emotion_counts = [547, 6198, 8989, 4002, 6077, 5121, 4953]\n",
    "\n",
    "# Plot Bar Graph\n",
    "plt.figure(figsize=(10, 6))\n",
    "plt.bar(emotion_labels, emotion_counts, color='blue')\n",
    "\n",
    "plt.xlabel('Emotion')\n",
    "plt.ylabel('Count')\n",
    "\n",
    "plt.title('Emotion Category Count')\n",
    "plt.xticks(rotation=45)  \n",
    "plt.tight_layout() \n",
    "plt.show()"
   ]
  },
  {
   "cell_type": "code",
   "execution_count": 8,
   "id": "5627ae61",
   "metadata": {
    "collapsed": true
   },
   "outputs": [
    {
     "name": "stdout",
     "output_type": "stream",
     "text": [
      "+--------------------+\n",
      "|              pixels|\n",
      "+--------------------+\n",
      "|70 80 82 72 58 58...|\n",
      "|151 150 147 155 1...|\n",
      "|231 212 156 164 1...|\n",
      "|24 32 36 30 32 23...|\n",
      "|4 0 0 0 0 0 0 0 0...|\n",
      "+--------------------+\n",
      "only showing top 5 rows\n",
      "\n"
     ]
    }
   ],
   "source": [
    "# 2023034 - MAHMUT ZAHID MALKOC\n",
    "\n",
    "# Show \"pixels\" column first 5 rows\n",
    "df.select(\"pixels\").show(5)"
   ]
  },
  {
   "cell_type": "markdown",
   "id": "8488bea7",
   "metadata": {},
   "source": [
    "#### Convert Strings to Lists of Integers"
   ]
  },
  {
   "cell_type": "code",
   "execution_count": 9,
   "id": "f0faa6b8",
   "metadata": {
    "collapsed": true
   },
   "outputs": [
    {
     "name": "stderr",
     "output_type": "stream",
     "text": [
      "\r",
      "[Stage 13:>                                                         (0 + 1) / 1]\r"
     ]
    },
    {
     "name": "stdout",
     "output_type": "stream",
     "text": [
      "+-------+--------------------+--------+--------------------+\n",
      "|emotion|              pixels|   Usage|       pixels_as_int|\n",
      "+-------+--------------------+--------+--------------------+\n",
      "|      0|70 80 82 72 58 58...|Training|[70, 80, 82, 72, ...|\n",
      "|      0|151 150 147 155 1...|Training|[151, 150, 147, 1...|\n",
      "|      2|231 212 156 164 1...|Training|[231, 212, 156, 1...|\n",
      "+-------+--------------------+--------+--------------------+\n",
      "only showing top 3 rows\n",
      "\n"
     ]
    },
    {
     "name": "stderr",
     "output_type": "stream",
     "text": [
      "\r",
      "                                                                                \r"
     ]
    }
   ],
   "source": [
    "# 2023034 - MAHMUT ZAHID MALKOC\n",
    "\n",
    "from pyspark.sql.functions import udf, col\n",
    "from pyspark.sql.types import ArrayType, IntegerType\n",
    "\n",
    "# Defining a function that converts string data into a list of integers\n",
    "def string_to_int_list(s):\n",
    "    return [int(x) for x in s.split()]\n",
    "\n",
    "# UDF (User Defined Function) function definition\n",
    "string_to_int_udf = udf(string_to_int_list, ArrayType(IntegerType()))\n",
    "\n",
    "# Converting the \"pixels\" column and adding a new column\n",
    "df = df.withColumn(\"pixels_as_int\", string_to_int_udf(col(\"pixels\")))\n",
    "\n",
    "# Show the dataframe first 3 rows\n",
    "df.show(3)"
   ]
  },
  {
   "cell_type": "markdown",
   "id": "81d101ff",
   "metadata": {},
   "source": [
    "#### Reshape to 48x48 and Normalise Grayscale Image with 255.0"
   ]
  },
  {
   "cell_type": "code",
   "execution_count": 10,
   "id": "d49246ff",
   "metadata": {
    "collapsed": true
   },
   "outputs": [
    {
     "name": "stderr",
     "output_type": "stream",
     "text": [
      "\r",
      "[Stage 14:>                                                         (0 + 1) / 1]\r"
     ]
    },
    {
     "name": "stdout",
     "output_type": "stream",
     "text": [
      "+-------+--------------------+--------+--------------------+--------------------+--------------------+\n",
      "|emotion|              pixels|   Usage|       pixels_as_int|   normalized_pixels|     reshaped_pixels|\n",
      "+-------+--------------------+--------+--------------------+--------------------+--------------------+\n",
      "|      0|70 80 82 72 58 58...|Training|[70, 80, 82, 72, ...|[0.27450982, 0.31...|[[0.27450982, 0.3...|\n",
      "|      0|151 150 147 155 1...|Training|[151, 150, 147, 1...|[0.5921569, 0.588...|[[0.5921569, 0.58...|\n",
      "|      2|231 212 156 164 1...|Training|[231, 212, 156, 1...|[0.90588236, 0.83...|[[0.90588236, 0.8...|\n",
      "+-------+--------------------+--------+--------------------+--------------------+--------------------+\n",
      "only showing top 3 rows\n",
      "\n"
     ]
    },
    {
     "name": "stderr",
     "output_type": "stream",
     "text": [
      "\r",
      "                                                                                \r"
     ]
    }
   ],
   "source": [
    "# 2023034 - MAHMUT ZAHID MALKOC\n",
    "\n",
    "from pyspark.sql.types import FloatType\n",
    "from pyspark.ml.linalg import Vectors\n",
    "from pyspark.ml.feature import VectorAssembler\n",
    "\n",
    "# Normalization process\n",
    "max_value = 255.0\n",
    "normalize_udf = udf(lambda x: [v / max_value for v in x], ArrayType(FloatType()))\n",
    "df = df.withColumn(\"normalized_pixels\", normalize_udf(df[\"pixels_as_int\"]))\n",
    "\n",
    "# Reshape Dataframe\n",
    "width = 48\n",
    "height = 48\n",
    "\n",
    "reshape_udf = udf(lambda x: [x[i:i+width] for i in range(0, len(x), width)], ArrayType(ArrayType(FloatType())))\n",
    "df = df.withColumn(\"reshaped_pixels\", reshape_udf(df[\"normalized_pixels\"]))\n",
    "\n",
    "# Show the dataframe first 3 rows\n",
    "df.show(3)"
   ]
  },
  {
   "cell_type": "markdown",
   "id": "ad74911c",
   "metadata": {},
   "source": [
    "#### Perform One-Hot Encoding Label - e.g. class 3 to [0,0,0,1,0,0,0]"
   ]
  },
  {
   "cell_type": "code",
   "execution_count": 11,
   "id": "f5633016",
   "metadata": {
    "collapsed": true
   },
   "outputs": [
    {
     "name": "stdout",
     "output_type": "stream",
     "text": [
      "+-------+-----+-------+----+-----+---+--------+-------+\n",
      "|emotion|Angry|Disgust|Fear|Happy|Sad|Surprise|Neutral|\n",
      "+-------+-----+-------+----+-----+---+--------+-------+\n",
      "|      0|    1|      0|   0|    0|  0|       0|      0|\n",
      "|      0|    1|      0|   0|    0|  0|       0|      0|\n",
      "|      2|    0|      0|   1|    0|  0|       0|      0|\n",
      "|      4|    0|      0|   0|    0|  1|       0|      0|\n",
      "|      6|    0|      0|   0|    0|  0|       0|      1|\n",
      "|      2|    0|      0|   1|    0|  0|       0|      0|\n",
      "|      4|    0|      0|   0|    0|  1|       0|      0|\n",
      "|      3|    0|      0|   0|    1|  0|       0|      0|\n",
      "|      3|    0|      0|   0|    1|  0|       0|      0|\n",
      "|      2|    0|      0|   1|    0|  0|       0|      0|\n",
      "|      0|    1|      0|   0|    0|  0|       0|      0|\n",
      "|      6|    0|      0|   0|    0|  0|       0|      1|\n",
      "|      6|    0|      0|   0|    0|  0|       0|      1|\n",
      "|      6|    0|      0|   0|    0|  0|       0|      1|\n",
      "|      3|    0|      0|   0|    1|  0|       0|      0|\n",
      "|      5|    0|      0|   0|    0|  0|       1|      0|\n",
      "|      3|    0|      0|   0|    1|  0|       0|      0|\n",
      "|      2|    0|      0|   1|    0|  0|       0|      0|\n",
      "|      6|    0|      0|   0|    0|  0|       0|      1|\n",
      "|      4|    0|      0|   0|    0|  1|       0|      0|\n",
      "+-------+-----+-------+----+-----+---+--------+-------+\n",
      "only showing top 20 rows\n",
      "\n"
     ]
    }
   ],
   "source": [
    "# 2023034 - MAHMUT ZAHID MALKOC\n",
    "\n",
    "from pyspark.sql.functions import when, lit\n",
    "\n",
    "# Define emotion mapping\n",
    "emotion_map = {0: 'Angry', 1: 'Disgust', 2: 'Fear', 3: 'Happy', 4: 'Sad', 5: 'Surprise', 6: 'Neutral'}\n",
    "\n",
    "# Convert emotion tags to one-hot encoding\n",
    "for label, emotion in emotion_map.items():\n",
    "    df = df.withColumn(emotion, when(df[\"emotion\"] == lit(label), 1).otherwise(0))\n",
    "\n",
    "\n",
    "# Select the \"emotion\" and one-hot encoding columns before removing the 'emotion' column\n",
    "selected_columns = [\"emotion\"] + list(emotion_map.values())\n",
    "\n",
    "# Show only \"selected_columns\"\n",
    "df.select(selected_columns).show()"
   ]
  },
  {
   "cell_type": "code",
   "execution_count": 12,
   "id": "ad91b9ff",
   "metadata": {
    "collapsed": true
   },
   "outputs": [
    {
     "name": "stderr",
     "output_type": "stream",
     "text": [
      "                                                                                \r"
     ]
    },
    {
     "name": "stdout",
     "output_type": "stream",
     "text": [
      "+-------+--------------------+--------+--------------------+--------------------+--------------------+-----+-------+----+-----+---+--------+-------+\n",
      "|emotion|              pixels|   Usage|       pixels_as_int|   normalized_pixels|     reshaped_pixels|Angry|Disgust|Fear|Happy|Sad|Surprise|Neutral|\n",
      "+-------+--------------------+--------+--------------------+--------------------+--------------------+-----+-------+----+-----+---+--------+-------+\n",
      "|      0|70 80 82 72 58 58...|Training|[70, 80, 82, 72, ...|[0.27450982, 0.31...|[[0.27450982, 0.3...|    1|      0|   0|    0|  0|       0|      0|\n",
      "|      0|151 150 147 155 1...|Training|[151, 150, 147, 1...|[0.5921569, 0.588...|[[0.5921569, 0.58...|    1|      0|   0|    0|  0|       0|      0|\n",
      "|      2|231 212 156 164 1...|Training|[231, 212, 156, 1...|[0.90588236, 0.83...|[[0.90588236, 0.8...|    0|      0|   1|    0|  0|       0|      0|\n",
      "|      4|24 32 36 30 32 23...|Training|[24, 32, 36, 30, ...|[0.09411765, 0.12...|[[0.09411765, 0.1...|    0|      0|   0|    0|  1|       0|      0|\n",
      "|      6|4 0 0 0 0 0 0 0 0...|Training|[4, 0, 0, 0, 0, 0...|[0.015686275, 0.0...|[[0.015686275, 0....|    0|      0|   0|    0|  0|       0|      1|\n",
      "|      2|55 55 55 55 55 54...|Training|[55, 55, 55, 55, ...|[0.21568628, 0.21...|[[0.21568628, 0.2...|    0|      0|   1|    0|  0|       0|      0|\n",
      "|      4|20 17 19 21 25 38...|Training|[20, 17, 19, 21, ...|[0.078431375, 0.0...|[[0.078431375, 0....|    0|      0|   0|    0|  1|       0|      0|\n",
      "|      3|77 78 79 79 78 75...|Training|[77, 78, 79, 79, ...|[0.3019608, 0.305...|[[0.3019608, 0.30...|    0|      0|   0|    1|  0|       0|      0|\n",
      "|      3|85 84 90 121 101 ...|Training|[85, 84, 90, 121,...|[0.33333334, 0.32...|[[0.33333334, 0.3...|    0|      0|   0|    1|  0|       0|      0|\n",
      "|      2|255 254 255 254 2...|Training|[255, 254, 255, 2...|[1.0, 0.99607843,...|[[1.0, 0.99607843...|    0|      0|   1|    0|  0|       0|      0|\n",
      "|      0|30 24 21 23 25 25...|Training|[30, 24, 21, 23, ...|[0.11764706, 0.09...|[[0.11764706, 0.0...|    1|      0|   0|    0|  0|       0|      0|\n",
      "|      6|39 75 78 58 58 45...|Training|[39, 75, 78, 58, ...|[0.15294118, 0.29...|[[0.15294118, 0.2...|    0|      0|   0|    0|  0|       0|      1|\n",
      "|      6|219 213 206 202 2...|Training|[219, 213, 206, 2...|[0.85882354, 0.83...|[[0.85882354, 0.8...|    0|      0|   0|    0|  0|       0|      1|\n",
      "|      6|148 144 130 129 1...|Training|[148, 144, 130, 1...|[0.5803922, 0.564...|[[0.5803922, 0.56...|    0|      0|   0|    0|  0|       0|      1|\n",
      "|      3|4 2 13 41 56 62 6...|Training|[4, 2, 13, 41, 56...|[0.015686275, 0.0...|[[0.015686275, 0....|    0|      0|   0|    1|  0|       0|      0|\n",
      "|      5|107 107 109 109 1...|Training|[107, 107, 109, 1...|[0.41960785, 0.41...|[[0.41960785, 0.4...|    0|      0|   0|    0|  0|       1|      0|\n",
      "|      3|14 14 18 28 27 22...|Training|[14, 14, 18, 28, ...|[0.05490196, 0.05...|[[0.05490196, 0.0...|    0|      0|   0|    1|  0|       0|      0|\n",
      "|      2|255 255 255 255 2...|Training|[255, 255, 255, 2...|[1.0, 1.0, 1.0, 1...|[[1.0, 1.0, 1.0, ...|    0|      0|   1|    0|  0|       0|      0|\n",
      "|      6|134 124 167 180 1...|Training|[134, 124, 167, 1...|[0.5254902, 0.486...|[[0.5254902, 0.48...|    0|      0|   0|    0|  0|       0|      1|\n",
      "|      4|219 192 179 148 2...|Training|[219, 192, 179, 1...|[0.85882354, 0.75...|[[0.85882354, 0.7...|    0|      0|   0|    0|  1|       0|      0|\n",
      "+-------+--------------------+--------+--------------------+--------------------+--------------------+-----+-------+----+-----+---+--------+-------+\n",
      "only showing top 20 rows\n",
      "\n"
     ]
    }
   ],
   "source": [
    "# 2023034 - MAHMUT ZAHID MALKOC\n",
    "\n",
    "# Show the whole dataset\n",
    "df.show()"
   ]
  },
  {
   "cell_type": "markdown",
   "id": "968c792b",
   "metadata": {},
   "source": [
    "#### Prepare the Dataset for Model Training"
   ]
  },
  {
   "cell_type": "code",
   "execution_count": 13,
   "id": "e09c9155",
   "metadata": {
    "collapsed": true
   },
   "outputs": [
    {
     "name": "stdout",
     "output_type": "stream",
     "text": [
      "+-------+--------------------+--------+\n",
      "|emotion|   normalized_pixels|   Usage|\n",
      "+-------+--------------------+--------+\n",
      "|      0|[0.27450982, 0.31...|Training|\n",
      "|      0|[0.5921569, 0.588...|Training|\n",
      "|      2|[0.90588236, 0.83...|Training|\n",
      "|      4|[0.09411765, 0.12...|Training|\n",
      "|      6|[0.015686275, 0.0...|Training|\n",
      "|      2|[0.21568628, 0.21...|Training|\n",
      "|      4|[0.078431375, 0.0...|Training|\n",
      "|      3|[0.3019608, 0.305...|Training|\n",
      "|      3|[0.33333334, 0.32...|Training|\n",
      "|      2|[1.0, 0.99607843,...|Training|\n",
      "|      0|[0.11764706, 0.09...|Training|\n",
      "|      6|[0.15294118, 0.29...|Training|\n",
      "|      6|[0.85882354, 0.83...|Training|\n",
      "|      6|[0.5803922, 0.564...|Training|\n",
      "|      3|[0.015686275, 0.0...|Training|\n",
      "|      5|[0.41960785, 0.41...|Training|\n",
      "|      3|[0.05490196, 0.05...|Training|\n",
      "|      2|[1.0, 1.0, 1.0, 1...|Training|\n",
      "|      6|[0.5254902, 0.486...|Training|\n",
      "|      4|[0.85882354, 0.75...|Training|\n",
      "+-------+--------------------+--------+\n",
      "only showing top 20 rows\n",
      "\n"
     ]
    }
   ],
   "source": [
    "# 2023034 - MAHMUT ZAHID MALKOC\n",
    "\n",
    "# # Select only the required \"emotion\" and \"normalized_pixels\" columns\n",
    "df = df.select(\"emotion\", \"normalized_pixels\", \"Usage\")\n",
    "\n",
    "# Show the special and required dataset\n",
    "df.show()"
   ]
  },
  {
   "cell_type": "markdown",
   "id": "5c186b1f",
   "metadata": {},
   "source": [
    "### SPLIT THE DATASET INTO TRAIN - TEST - VALIDATION DATA"
   ]
  },
  {
   "cell_type": "code",
   "execution_count": 14,
   "id": "74ced408",
   "metadata": {},
   "outputs": [
    {
     "name": "stdout",
     "output_type": "stream",
     "text": [
      "Shape of Train Data     : (28754, 3)\n"
     ]
    },
    {
     "name": "stderr",
     "output_type": "stream",
     "text": [
      "                                                                                \r"
     ]
    },
    {
     "name": "stdout",
     "output_type": "stream",
     "text": [
      "Shape of Test Data      : (3296, 3)\n"
     ]
    },
    {
     "name": "stderr",
     "output_type": "stream",
     "text": [
      "[Stage 56:==================================================>     (10 + 1) / 11]\r"
     ]
    },
    {
     "name": "stdout",
     "output_type": "stream",
     "text": [
      "Shape of Validation Data: (3441, 3)\n"
     ]
    },
    {
     "name": "stderr",
     "output_type": "stream",
     "text": [
      "\r",
      "                                                                                \r"
     ]
    }
   ],
   "source": [
    "# 2023034 - MAHMUT ZAHID MALKOC\n",
    "\n",
    "# Split the data into 80% train and 20% other\n",
    "train_data = df.sample(False, 0.8, seed=123)\n",
    "remaining_data = df.subtract(train_data)\n",
    "\n",
    "# Split the other into 10% validation and 10% test\n",
    "validation_data = remaining_data.sample(False, 0.5, seed=123)\n",
    "test_data = remaining_data.subtract(validation_data)\n",
    "\n",
    "# Show the shape of data \n",
    "print(f\"Shape of Train Data     : {train_data.count()     , len(train_data.columns)}\")\n",
    "print(f\"Shape of Test Data      : {test_data.count()      , len(test_data.columns)}\")\n",
    "print(f\"Shape of Validation Data: {validation_data.count(), len(validation_data.columns)}\")"
   ]
  },
  {
   "cell_type": "markdown",
   "id": "2dd1e0bc",
   "metadata": {},
   "source": [
    "#### Prepare the Dataset for CNN"
   ]
  },
  {
   "cell_type": "code",
   "execution_count": 15,
   "id": "9ea80e4e",
   "metadata": {},
   "outputs": [
    {
     "name": "stderr",
     "output_type": "stream",
     "text": [
      "                                                                                \r"
     ]
    },
    {
     "name": "stdout",
     "output_type": "stream",
     "text": [
      "train_X: 28754\n",
      "train_y: 28754\n"
     ]
    }
   ],
   "source": [
    "# 2023034 - MAHMUT ZAHID MALKOC\n",
    "\n",
    "# Define train_X and train_y - It is better to use array than list for ML/DL\n",
    "# train_X = train_data.select(\"normalized_pixels\").collect()\n",
    "# train_Y = train_data.select(\"emotion\").collect()\n",
    "\n",
    "# Define train_X and train_y\n",
    "train_X = np.array([row[\"normalized_pixels\"] for row in train_data.collect()])\n",
    "train_y = np.array([row[\"emotion\"]           for row in train_data.collect()])\n",
    "\n",
    "# Print train_X and train_y\n",
    "print(\"train_X:\", len(train_X))\n",
    "print(\"train_y:\", len(train_y))"
   ]
  },
  {
   "cell_type": "code",
   "execution_count": 16,
   "id": "21d97caf",
   "metadata": {},
   "outputs": [
    {
     "name": "stderr",
     "output_type": "stream",
     "text": [
      "                                                                                \r"
     ]
    },
    {
     "name": "stdout",
     "output_type": "stream",
     "text": [
      "test_X : 3296\n",
      "test_y : 3296\n"
     ]
    }
   ],
   "source": [
    "# 2023034 - MAHMUT ZAHID MALKOC\n",
    "\n",
    "# Define test_X and test_y\n",
    "test_X = np.array([row[\"normalized_pixels\"] for row in test_data.collect()])\n",
    "test_y = np.array([row[\"emotion\"]           for row in test_data.collect()])\n",
    "\n",
    "# Print test_X and test_y\n",
    "print(\"test_X :\", len(test_X))\n",
    "print(\"test_y :\", len(test_y))"
   ]
  },
  {
   "cell_type": "code",
   "execution_count": 17,
   "id": "b300d7da",
   "metadata": {},
   "outputs": [
    {
     "name": "stderr",
     "output_type": "stream",
     "text": [
      "                                                                                \r"
     ]
    },
    {
     "name": "stdout",
     "output_type": "stream",
     "text": [
      "val_X  : 3441\n",
      "val_y  : 3441\n"
     ]
    }
   ],
   "source": [
    "# 2023034 - MAHMUT ZAHID MALKOC\n",
    "\n",
    "# Define val_X and val_y\n",
    "val_X = np.array([row[\"normalized_pixels\"] for row in validation_data.collect()])\n",
    "val_y = np.array([row[\"emotion\"]           for row in validation_data.collect()])\n",
    "\n",
    "# Print val_X and val_y\n",
    "print(\"val_X  :\", len(val_X))\n",
    "print(\"val_y  :\", len(val_y))"
   ]
  },
  {
   "cell_type": "code",
   "execution_count": 18,
   "id": "b6cd55d0",
   "metadata": {},
   "outputs": [
    {
     "name": "stdout",
     "output_type": "stream",
     "text": [
      "train_X: 28754\n",
      "test_X : 3296\n",
      "val_X  : 3441\n"
     ]
    }
   ],
   "source": [
    "# 2023034 - MAHMUT ZAHID MALKOC\n",
    "\n",
    "# RESHAPE TRAIN, TEST AND VAL (X,y)\n",
    "train_X = train_X.reshape(train_X.shape[0], 48, 48, 1)\n",
    "test_X  = test_X.reshape(test_X.shape[0], 48, 48, 1)\n",
    "val_X   = val_X.reshape(val_X.shape[0], 48, 48, 1)\n",
    "\n",
    "# PRINT TRAIN, TEST AND VAL (X,y)\n",
    "print(\"train_X:\", len(train_X))\n",
    "print(\"test_X :\", len(test_X))\n",
    "print(\"val_X  :\", len(val_X))"
   ]
  },
  {
   "cell_type": "markdown",
   "id": "a788cff3",
   "metadata": {},
   "source": [
    "### CNN ARCHITECTURE  "
   ]
  },
  {
   "cell_type": "code",
   "execution_count": 19,
   "id": "d2bd67cb",
   "metadata": {},
   "outputs": [],
   "source": [
    "# 2023034 - MAHMUT ZAHID MALKOC\n",
    "\n",
    "# Initilize Parameters\n",
    "num_classes = 7 \n",
    "width, height = 48, 48\n",
    "num_epochs = 15\n",
    "batch_size = 64\n",
    "num_features = 64"
   ]
  },
  {
   "cell_type": "code",
   "execution_count": 20,
   "id": "4e3bb4d6",
   "metadata": {},
   "outputs": [],
   "source": [
    "# 2023034 - MAHMUT ZAHID MALKOC\n",
    "\n",
    "from tensorflow.keras.models import Sequential,load_model,Model\n",
    "from tensorflow.keras.layers import add,Conv2D,BatchNormalization,MaxPooling2D\n",
    "from tensorflow.keras.layers import Activation,Flatten,Dense,Input\n",
    "from tensorflow.keras.regularizers import l2\n",
    "\n",
    "model = tf.keras.Sequential()\n",
    "\n",
    "# Module 1\n",
    "model.add(Conv2D(2*2*num_features, kernel_size=(3, 3), input_shape=(width,height,1)))\n",
    "model.add(BatchNormalization())\n",
    "model.add(Activation('relu'))\n",
    "model.add(Conv2D(2*2*num_features, kernel_size=(3, 3), padding='same'))\n",
    "model.add(BatchNormalization())\n",
    "model.add(Activation('relu'))\n",
    "model.add(MaxPooling2D(pool_size=(2, 2), strides=(2, 2)))\n",
    "\n",
    "# Module 2\n",
    "model.add(Conv2D(2*num_features, kernel_size=(3, 3), padding='same'))\n",
    "model.add(BatchNormalization())\n",
    "model.add(Activation('relu'))\n",
    "model.add(Conv2D(2*num_features, kernel_size=(3, 3), padding='same'))\n",
    "model.add(BatchNormalization())\n",
    "model.add(Activation('relu'))\n",
    "model.add(MaxPooling2D(pool_size=(2, 2), strides=(2, 2)))\n",
    "\n",
    "# Module 3\n",
    "model.add(Conv2D(num_features, kernel_size=(3, 3), padding='same'))\n",
    "model.add(BatchNormalization())\n",
    "model.add(Activation('relu'))\n",
    "model.add(Conv2D(num_features, kernel_size=(3, 3), padding='same'))\n",
    "model.add(BatchNormalization())\n",
    "model.add(Activation('relu'))\n",
    "model.add(MaxPooling2D(pool_size=(2, 2), strides=(2, 2)))\n",
    "\n",
    "# Flatten\n",
    "model.add(Flatten())\n",
    "\n",
    "# Dense 1\n",
    "model.add(Dense(2*2*2*num_features))\n",
    "model.add(BatchNormalization())\n",
    "model.add(Activation('relu'))\n",
    "\n",
    "# Dense 2\n",
    "model.add(Dense(2*2*num_features))\n",
    "model.add(BatchNormalization())\n",
    "model.add(Activation('relu'))\n",
    "\n",
    "# Dense 3\n",
    "model.add(Dense(2*num_features))\n",
    "model.add(BatchNormalization())\n",
    "model.add(Activation('relu'))\n",
    "\n",
    "# Output Layer\n",
    "model.add(Dense(num_classes, activation='softmax'))"
   ]
  },
  {
   "cell_type": "code",
   "execution_count": 21,
   "id": "11c3712d",
   "metadata": {
    "collapsed": true
   },
   "outputs": [
    {
     "name": "stdout",
     "output_type": "stream",
     "text": [
      "Model: \"sequential\"\n",
      "_________________________________________________________________\n",
      " Layer (type)                Output Shape              Param #   \n",
      "=================================================================\n",
      " conv2d (Conv2D)             (None, 46, 46, 256)       2560      \n",
      "                                                                 \n",
      " batch_normalization (Batch  (None, 46, 46, 256)       1024      \n",
      " Normalization)                                                  \n",
      "                                                                 \n",
      " activation (Activation)     (None, 46, 46, 256)       0         \n",
      "                                                                 \n",
      " conv2d_1 (Conv2D)           (None, 46, 46, 256)       590080    \n",
      "                                                                 \n",
      " batch_normalization_1 (Bat  (None, 46, 46, 256)       1024      \n",
      " chNormalization)                                                \n",
      "                                                                 \n",
      " activation_1 (Activation)   (None, 46, 46, 256)       0         \n",
      "                                                                 \n",
      " max_pooling2d (MaxPooling2  (None, 23, 23, 256)       0         \n",
      " D)                                                              \n",
      "                                                                 \n",
      " conv2d_2 (Conv2D)           (None, 23, 23, 128)       295040    \n",
      "                                                                 \n",
      " batch_normalization_2 (Bat  (None, 23, 23, 128)       512       \n",
      " chNormalization)                                                \n",
      "                                                                 \n",
      " activation_2 (Activation)   (None, 23, 23, 128)       0         \n",
      "                                                                 \n",
      " conv2d_3 (Conv2D)           (None, 23, 23, 128)       147584    \n",
      "                                                                 \n",
      " batch_normalization_3 (Bat  (None, 23, 23, 128)       512       \n",
      " chNormalization)                                                \n",
      "                                                                 \n",
      " activation_3 (Activation)   (None, 23, 23, 128)       0         \n",
      "                                                                 \n",
      " max_pooling2d_1 (MaxPoolin  (None, 11, 11, 128)       0         \n",
      " g2D)                                                            \n",
      "                                                                 \n",
      " conv2d_4 (Conv2D)           (None, 11, 11, 64)        73792     \n",
      "                                                                 \n",
      " batch_normalization_4 (Bat  (None, 11, 11, 64)        256       \n",
      " chNormalization)                                                \n",
      "                                                                 \n",
      " activation_4 (Activation)   (None, 11, 11, 64)        0         \n",
      "                                                                 \n",
      " conv2d_5 (Conv2D)           (None, 11, 11, 64)        36928     \n",
      "                                                                 \n",
      " batch_normalization_5 (Bat  (None, 11, 11, 64)        256       \n",
      " chNormalization)                                                \n",
      "                                                                 \n",
      " activation_5 (Activation)   (None, 11, 11, 64)        0         \n",
      "                                                                 \n",
      " max_pooling2d_2 (MaxPoolin  (None, 5, 5, 64)          0         \n",
      " g2D)                                                            \n",
      "                                                                 \n",
      " flatten (Flatten)           (None, 1600)              0         \n",
      "                                                                 \n",
      " dense (Dense)               (None, 512)               819712    \n",
      "                                                                 \n",
      " batch_normalization_6 (Bat  (None, 512)               2048      \n",
      " chNormalization)                                                \n",
      "                                                                 \n",
      " activation_6 (Activation)   (None, 512)               0         \n",
      "                                                                 \n",
      " dense_1 (Dense)             (None, 256)               131328    \n",
      "                                                                 \n",
      " batch_normalization_7 (Bat  (None, 256)               1024      \n",
      " chNormalization)                                                \n",
      "                                                                 \n",
      " activation_7 (Activation)   (None, 256)               0         \n",
      "                                                                 \n",
      " dense_2 (Dense)             (None, 128)               32896     \n",
      "                                                                 \n",
      " batch_normalization_8 (Bat  (None, 128)               512       \n",
      " chNormalization)                                                \n",
      "                                                                 \n",
      " activation_8 (Activation)   (None, 128)               0         \n",
      "                                                                 \n",
      " dense_3 (Dense)             (None, 7)                 903       \n",
      "                                                                 \n",
      "=================================================================\n",
      "Total params: 2137991 (8.16 MB)\n",
      "Trainable params: 2134407 (8.14 MB)\n",
      "Non-trainable params: 3584 (14.00 KB)\n",
      "_________________________________________________________________\n"
     ]
    }
   ],
   "source": [
    "# 2023034 - MAHMUT ZAHID MALKOC\n",
    "\n",
    "from keras.losses import categorical_crossentropy\n",
    "from tensorflow.keras.optimizers import Adam\n",
    "\n",
    "model.compile(loss='categorical_crossentropy', \n",
    "              optimizer=Adam(learning_rate=0.001, beta_1=0.9, beta_2=0.999, epsilon=1e-7), \n",
    "              metrics=['accuracy'])\n",
    "\n",
    "model.summary()"
   ]
  },
  {
   "cell_type": "code",
   "execution_count": 22,
   "id": "9fb0815e",
   "metadata": {
    "collapsed": true
   },
   "outputs": [
    {
     "name": "stdout",
     "output_type": "stream",
     "text": [
      "Model: \"sequential\"\n",
      "_________________________________________________________________\n",
      " Layer (type)                Output Shape              Param #   \n",
      "=================================================================\n",
      " conv2d (Conv2D)             (None, 46, 46, 256)       2560      \n",
      "                                                                 \n",
      " batch_normalization (Batch  (None, 46, 46, 256)       1024      \n",
      " Normalization)                                                  \n",
      "                                                                 \n",
      " activation (Activation)     (None, 46, 46, 256)       0         \n",
      "                                                                 \n",
      " conv2d_1 (Conv2D)           (None, 46, 46, 256)       590080    \n",
      "                                                                 \n",
      " batch_normalization_1 (Bat  (None, 46, 46, 256)       1024      \n",
      " chNormalization)                                                \n",
      "                                                                 \n",
      " activation_1 (Activation)   (None, 46, 46, 256)       0         \n",
      "                                                                 \n",
      " max_pooling2d (MaxPooling2  (None, 23, 23, 256)       0         \n",
      " D)                                                              \n",
      "                                                                 \n",
      " conv2d_2 (Conv2D)           (None, 23, 23, 128)       295040    \n",
      "                                                                 \n",
      " batch_normalization_2 (Bat  (None, 23, 23, 128)       512       \n",
      " chNormalization)                                                \n",
      "                                                                 \n",
      " activation_2 (Activation)   (None, 23, 23, 128)       0         \n",
      "                                                                 \n",
      " conv2d_3 (Conv2D)           (None, 23, 23, 128)       147584    \n",
      "                                                                 \n",
      " batch_normalization_3 (Bat  (None, 23, 23, 128)       512       \n",
      " chNormalization)                                                \n",
      "                                                                 \n",
      " activation_3 (Activation)   (None, 23, 23, 128)       0         \n",
      "                                                                 \n",
      " max_pooling2d_1 (MaxPoolin  (None, 11, 11, 128)       0         \n",
      " g2D)                                                            \n",
      "                                                                 \n",
      " conv2d_4 (Conv2D)           (None, 11, 11, 64)        73792     \n",
      "                                                                 \n",
      " batch_normalization_4 (Bat  (None, 11, 11, 64)        256       \n",
      " chNormalization)                                                \n",
      "                                                                 \n",
      " activation_4 (Activation)   (None, 11, 11, 64)        0         \n",
      "                                                                 \n",
      " conv2d_5 (Conv2D)           (None, 11, 11, 64)        36928     \n",
      "                                                                 \n",
      " batch_normalization_5 (Bat  (None, 11, 11, 64)        256       \n",
      " chNormalization)                                                \n",
      "                                                                 \n",
      " activation_5 (Activation)   (None, 11, 11, 64)        0         \n",
      "                                                                 \n",
      " max_pooling2d_2 (MaxPoolin  (None, 5, 5, 64)          0         \n",
      " g2D)                                                            \n",
      "                                                                 \n",
      " flatten (Flatten)           (None, 1600)              0         \n",
      "                                                                 \n",
      " dense (Dense)               (None, 512)               819712    \n",
      "                                                                 \n",
      " batch_normalization_6 (Bat  (None, 512)               2048      \n",
      " chNormalization)                                                \n",
      "                                                                 \n",
      " activation_6 (Activation)   (None, 512)               0         \n",
      "                                                                 \n",
      " dense_1 (Dense)             (None, 256)               131328    \n",
      "                                                                 \n",
      " batch_normalization_7 (Bat  (None, 256)               1024      \n",
      " chNormalization)                                                \n",
      "                                                                 \n",
      " activation_7 (Activation)   (None, 256)               0         \n",
      "                                                                 \n",
      " dense_2 (Dense)             (None, 128)               32896     \n",
      "                                                                 \n",
      " batch_normalization_8 (Bat  (None, 128)               512       \n",
      " chNormalization)                                                \n",
      "                                                                 \n",
      " activation_8 (Activation)   (None, 128)               0         \n",
      "                                                                 \n",
      " dense_3 (Dense)             (None, 7)                 903       \n",
      "                                                                 \n",
      "=================================================================\n",
      "Total params: 2137991 (8.16 MB)\n",
      "Trainable params: 2134407 (8.14 MB)\n",
      "Non-trainable params: 3584 (14.00 KB)\n",
      "_________________________________________________________________\n"
     ]
    }
   ],
   "source": [
    "# 2023034 - MAHMUT ZAHID MALKOC\n",
    "\n",
    "from keras.losses import sparse_categorical_crossentropy\n",
    "from tensorflow.keras.optimizers import Adam\n",
    "\n",
    "model.compile(loss='sparse_categorical_crossentropy', \n",
    "              optimizer=Adam(learning_rate=0.001, beta_1=0.9, beta_2=0.999, epsilon=1e-7), \n",
    "              metrics=['accuracy'])\n",
    "\n",
    "model.summary()"
   ]
  },
  {
   "cell_type": "code",
   "execution_count": null,
   "id": "f2ff7b0e",
   "metadata": {},
   "outputs": [
    {
     "name": "stdout",
     "output_type": "stream",
     "text": [
      "Epoch 1/3\n"
     ]
    },
    {
     "name": "stderr",
     "output_type": "stream",
     "text": [
      "2023-10-05 04:25:07.273071: W tensorflow/tsl/framework/cpu_allocator_impl.cc:83] Allocation of 138674176 exceeds 10% of free system memory.\n",
      "2023-10-05 04:25:07.390741: W tensorflow/tsl/framework/cpu_allocator_impl.cc:83] Allocation of 138674176 exceeds 10% of free system memory.\n",
      "2023-10-05 04:25:07.585021: W tensorflow/tsl/framework/cpu_allocator_impl.cc:83] Allocation of 138674176 exceeds 10% of free system memory.\n",
      "2023-10-05 04:25:08.294368: W tensorflow/tsl/framework/cpu_allocator_impl.cc:83] Allocation of 138674176 exceeds 10% of free system memory.\n",
      "2023-10-05 04:25:09.219840: W tensorflow/tsl/framework/cpu_allocator_impl.cc:83] Allocation of 69337088 exceeds 10% of free system memory.\n"
     ]
    }
   ],
   "source": [
    "# 2023034 - MAHMUT ZAHID MALKOC\n",
    "\n",
    "from keras.preprocessing.image import ImageDataGenerator\n",
    "from keras.callbacks import EarlyStopping\n",
    "from tensorflow.keras.callbacks import ModelCheckpoint\n",
    "\n",
    "# Data Generator (Data Augmentation)\n",
    "data_generator = ImageDataGenerator(featurewise_center=False,\n",
    "                                    featurewise_std_normalization=False,\n",
    "                                    rotation_range=10,\n",
    "                                    width_shift_range=0.1,\n",
    "                                    height_shift_range=0.1,\n",
    "                                    zoom_range=.1,\n",
    "                                    horizontal_flip=True)\n",
    "# Early Stopping (Regularization)\n",
    "es = EarlyStopping(monitor='val_loss', \n",
    "                   patience = 10, \n",
    "                   mode = 'min', \n",
    "                   restore_best_weights=True)\n",
    "\n",
    "# Model Fit\n",
    "history = model.fit(data_generator.flow(train_X, train_y, batch_size),\n",
    "                    steps_per_epoch=len(train_X) / 2*2*batch_size,\n",
    "                    epochs=3,\n",
    "                    verbose=2, \n",
    "                    callbacks = [es],\n",
    "                    validation_data=(val_X, val_y))"
   ]
  },
  {
   "cell_type": "code",
   "execution_count": null,
   "id": "4126044b",
   "metadata": {},
   "outputs": [],
   "source": []
  }
 ],
 "metadata": {
  "kernelspec": {
   "display_name": "Python 3 (ipykernel)",
   "language": "python",
   "name": "python3"
  },
  "language_info": {
   "codemirror_mode": {
    "name": "ipython",
    "version": 3
   },
   "file_extension": ".py",
   "mimetype": "text/x-python",
   "name": "python",
   "nbconvert_exporter": "python",
   "pygments_lexer": "ipython3",
   "version": "3.10.12"
  }
 },
 "nbformat": 4,
 "nbformat_minor": 5
}
